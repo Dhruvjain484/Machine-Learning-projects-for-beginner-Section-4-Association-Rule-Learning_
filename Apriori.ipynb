{
  "nbformat": 4,
  "nbformat_minor": 0,
  "metadata": {
    "colab": {
      "name": "Apriori.ipynb",
      "provenance": [],
      "collapsed_sections": [],
      "authorship_tag": "ABX9TyO3j9MDnSUNTPE/ND98GWBu",
      "include_colab_link": true
    },
    "kernelspec": {
      "name": "python3",
      "display_name": "Python 3"
    }
  },
  "cells": [
    {
      "cell_type": "markdown",
      "metadata": {
        "id": "view-in-github",
        "colab_type": "text"
      },
      "source": [
        "<a href=\"https://colab.research.google.com/github/Dhruvjain484/Machine-Learning-projects-for-beginner-Section-4-Association-Rule-Learning_/blob/main/Apriori.ipynb\" target=\"_parent\"><img src=\"https://colab.research.google.com/assets/colab-badge.svg\" alt=\"Open In Colab\"/></a>"
      ]
    },
    {
      "cell_type": "markdown",
      "metadata": {
        "id": "7SUkKsV46Qpm"
      },
      "source": [
        "#Installing apyori library"
      ]
    },
    {
      "cell_type": "code",
      "metadata": {
        "colab": {
          "base_uri": "https://localhost:8080/"
        },
        "id": "9TQAgBdjyzNo",
        "outputId": "ff3c20ed-9600-4888-bd81-e0da5532e56d"
      },
      "source": [
        "!pip install apyori"
      ],
      "execution_count": 28,
      "outputs": [
        {
          "output_type": "stream",
          "text": [
            "Requirement already satisfied: apyori in /usr/local/lib/python3.6/dist-packages (1.1.2)\n"
          ],
          "name": "stdout"
        }
      ]
    },
    {
      "cell_type": "markdown",
      "metadata": {
        "id": "9YoKYO056WZs"
      },
      "source": [
        "#importing libraries"
      ]
    },
    {
      "cell_type": "code",
      "metadata": {
        "id": "JOl0EmLBy3Cw"
      },
      "source": [
        "import pandas as pd\r\n",
        "import numpy as np\r\n",
        "import matplotlib.pyplot as plt\r\n"
      ],
      "execution_count": 29,
      "outputs": []
    },
    {
      "cell_type": "markdown",
      "metadata": {
        "id": "77KD6qYW6a9k"
      },
      "source": [
        "#Importing the dataset"
      ]
    },
    {
      "cell_type": "code",
      "metadata": {
        "id": "MILSpFcuzGmd"
      },
      "source": [
        "dataset = pd.read_csv('Market_Basket_Optimisation.csv', header = None)\r\n",
        "transactions = []\r\n",
        "for i in range(0,7501):\r\n",
        "  transactions.append([str(dataset.iloc[i][j]) for j in range(0,20)])"
      ],
      "execution_count": 30,
      "outputs": []
    },
    {
      "cell_type": "markdown",
      "metadata": {
        "id": "QXcm399s6dLt"
      },
      "source": [
        "#Training the apriori model"
      ]
    },
    {
      "cell_type": "code",
      "metadata": {
        "id": "YSygiOEM1OqX"
      },
      "source": [
        "from apyori import apriori\r\n",
        "rules = apriori(transactions = transactions, min_support = 0.003, min_confidence = 0.4, min_lift = 4, min_length = 2, max_lengh= 2) "
      ],
      "execution_count": 31,
      "outputs": []
    },
    {
      "cell_type": "markdown",
      "metadata": {
        "id": "dqrCiaMz6g7B"
      },
      "source": [
        "#Result"
      ]
    },
    {
      "cell_type": "code",
      "metadata": {
        "colab": {
          "base_uri": "https://localhost:8080/"
        },
        "id": "0C2CLx1y1tPL",
        "outputId": "e9d944ba-b3a5-4056-ffd8-0cbc33aa5c24"
      },
      "source": [
        "result = list(rules)\r\n",
        "result"
      ],
      "execution_count": 32,
      "outputs": [
        {
          "output_type": "execute_result",
          "data": {
            "text/plain": [
              "[RelationRecord(items=frozenset({'spaghetti', 'cereals', 'ground beef'}), support=0.0030662578322890282, ordered_statistics=[OrderedStatistic(items_base=frozenset({'spaghetti', 'cereals'}), items_add=frozenset({'ground beef'}), confidence=0.45999999999999996, lift=4.681763907734057)]),\n",
              " RelationRecord(items=frozenset({'herb & pepper', 'chocolate', 'ground beef'}), support=0.003999466737768298, ordered_statistics=[OrderedStatistic(items_base=frozenset({'herb & pepper', 'chocolate'}), items_add=frozenset({'ground beef'}), confidence=0.4411764705882354, lift=4.4901827759597746)]),\n",
              " RelationRecord(items=frozenset({'herb & pepper', 'french fries', 'ground beef'}), support=0.003199573390214638, ordered_statistics=[OrderedStatistic(items_base=frozenset({'french fries', 'herb & pepper'}), items_add=frozenset({'ground beef'}), confidence=0.46153846153846156, lift=4.697421981004071)]),\n",
              " RelationRecord(items=frozenset({'spaghetti', 'ground beef', 'tomato sauce'}), support=0.0030662578322890282, ordered_statistics=[OrderedStatistic(items_base=frozenset({'spaghetti', 'tomato sauce'}), items_add=frozenset({'ground beef'}), confidence=0.4893617021276596, lift=4.980599901844742)]),\n",
              " RelationRecord(items=frozenset({'olive oil', 'whole wheat pasta', 'mineral water'}), support=0.0038661511798426876, ordered_statistics=[OrderedStatistic(items_base=frozenset({'whole wheat pasta', 'mineral water'}), items_add=frozenset({'olive oil'}), confidence=0.4027777777777778, lift=6.115862573099416)]),\n",
              " RelationRecord(items=frozenset({'spaghetti', 'nan', 'cereals', 'ground beef'}), support=0.0030662578322890282, ordered_statistics=[OrderedStatistic(items_base=frozenset({'spaghetti', 'cereals'}), items_add=frozenset({'nan', 'ground beef'}), confidence=0.45999999999999996, lift=4.681763907734057), OrderedStatistic(items_base=frozenset({'spaghetti', 'nan', 'cereals'}), items_add=frozenset({'ground beef'}), confidence=0.45999999999999996, lift=4.681763907734057)]),\n",
              " RelationRecord(items=frozenset({'shrimp', 'frozen vegetables', 'mineral water', 'chocolate'}), support=0.003199573390214638, ordered_statistics=[OrderedStatistic(items_base=frozenset({'shrimp', 'mineral water', 'chocolate'}), items_add=frozenset({'frozen vegetables'}), confidence=0.4210526315789474, lift=4.417224880382776)]),\n",
              " RelationRecord(items=frozenset({'herb & pepper', 'nan', 'chocolate', 'ground beef'}), support=0.003999466737768298, ordered_statistics=[OrderedStatistic(items_base=frozenset({'herb & pepper', 'chocolate'}), items_add=frozenset({'nan', 'ground beef'}), confidence=0.4411764705882354, lift=4.4901827759597746), OrderedStatistic(items_base=frozenset({'herb & pepper', 'nan', 'chocolate'}), items_add=frozenset({'ground beef'}), confidence=0.4411764705882354, lift=4.4901827759597746)]),\n",
              " RelationRecord(items=frozenset({'herb & pepper', 'french fries', 'nan', 'ground beef'}), support=0.003199573390214638, ordered_statistics=[OrderedStatistic(items_base=frozenset({'french fries', 'herb & pepper'}), items_add=frozenset({'nan', 'ground beef'}), confidence=0.46153846153846156, lift=4.697421981004071), OrderedStatistic(items_base=frozenset({'french fries', 'nan', 'herb & pepper'}), items_add=frozenset({'ground beef'}), confidence=0.46153846153846156, lift=4.697421981004071)]),\n",
              " RelationRecord(items=frozenset({'frozen vegetables', 'mineral water', 'soup', 'milk'}), support=0.0030662578322890282, ordered_statistics=[OrderedStatistic(items_base=frozenset({'frozen vegetables', 'soup', 'mineral water'}), items_add=frozenset({'milk'}), confidence=0.6052631578947368, lift=4.670863114576565)]),\n",
              " RelationRecord(items=frozenset({'spaghetti', 'nan', 'ground beef', 'tomato sauce'}), support=0.0030662578322890282, ordered_statistics=[OrderedStatistic(items_base=frozenset({'spaghetti', 'tomato sauce'}), items_add=frozenset({'nan', 'ground beef'}), confidence=0.4893617021276596, lift=4.980599901844742), OrderedStatistic(items_base=frozenset({'nan', 'spaghetti', 'tomato sauce'}), items_add=frozenset({'ground beef'}), confidence=0.4893617021276596, lift=4.980599901844742)]),\n",
              " RelationRecord(items=frozenset({'olive oil', 'whole wheat pasta', 'nan', 'mineral water'}), support=0.0038661511798426876, ordered_statistics=[OrderedStatistic(items_base=frozenset({'whole wheat pasta', 'mineral water'}), items_add=frozenset({'olive oil', 'nan'}), confidence=0.4027777777777778, lift=6.128267973856209), OrderedStatistic(items_base=frozenset({'whole wheat pasta', 'nan', 'mineral water'}), items_add=frozenset({'olive oil'}), confidence=0.4027777777777778, lift=6.115862573099416)]),\n",
              " RelationRecord(items=frozenset({'shrimp', 'nan', 'chocolate', 'frozen vegetables', 'mineral water'}), support=0.003199573390214638, ordered_statistics=[OrderedStatistic(items_base=frozenset({'shrimp', 'mineral water', 'chocolate'}), items_add=frozenset({'frozen vegetables', 'nan'}), confidence=0.4210526315789474, lift=4.417224880382776), OrderedStatistic(items_base=frozenset({'shrimp', 'mineral water', 'nan', 'chocolate'}), items_add=frozenset({'frozen vegetables'}), confidence=0.4210526315789474, lift=4.417224880382776)]),\n",
              " RelationRecord(items=frozenset({'soup', 'milk', 'nan', 'frozen vegetables', 'mineral water'}), support=0.0030662578322890282, ordered_statistics=[OrderedStatistic(items_base=frozenset({'frozen vegetables', 'soup', 'mineral water'}), items_add=frozenset({'nan', 'milk'}), confidence=0.6052631578947368, lift=4.670863114576565), OrderedStatistic(items_base=frozenset({'frozen vegetables', 'soup', 'nan', 'mineral water'}), items_add=frozenset({'milk'}), confidence=0.6052631578947368, lift=4.670863114576565)])]"
            ]
          },
          "metadata": {
            "tags": []
          },
          "execution_count": 32
        }
      ]
    },
    {
      "cell_type": "code",
      "metadata": {
        "id": "ngAloIu63IFd"
      },
      "source": [
        "def inspect(results):\r\n",
        "    lhs         = [tuple(result[2][0][0])[0] for result in results]\r\n",
        "    rhs         = [tuple(result[2][0][1])[0] for result in results]\r\n",
        "    supports    = [result[1] for result in results]\r\n",
        "    confidences = [result[2][0][2] for result in results]\r\n",
        "    lifts       = [result[2][0][3] for result in results]\r\n",
        "    return list(zip(lhs, rhs, supports, confidences, lifts))\r\n",
        "resultsinDataFrame = pd.DataFrame(inspect(result), columns = ['Left Hand Side', 'Right Hand Side', 'Support', 'Confidence', 'Lift'])"
      ],
      "execution_count": 34,
      "outputs": []
    },
    {
      "cell_type": "code",
      "metadata": {
        "colab": {
          "base_uri": "https://localhost:8080/",
          "height": 465
        },
        "id": "dTBuidzY59cj",
        "outputId": "b3d0f161-8172-41be-cc67-52c5dabb5dc4"
      },
      "source": [
        "resultsinDataFrame"
      ],
      "execution_count": 35,
      "outputs": [
        {
          "output_type": "execute_result",
          "data": {
            "text/html": [
              "<div>\n",
              "<style scoped>\n",
              "    .dataframe tbody tr th:only-of-type {\n",
              "        vertical-align: middle;\n",
              "    }\n",
              "\n",
              "    .dataframe tbody tr th {\n",
              "        vertical-align: top;\n",
              "    }\n",
              "\n",
              "    .dataframe thead th {\n",
              "        text-align: right;\n",
              "    }\n",
              "</style>\n",
              "<table border=\"1\" class=\"dataframe\">\n",
              "  <thead>\n",
              "    <tr style=\"text-align: right;\">\n",
              "      <th></th>\n",
              "      <th>Left Hand Side</th>\n",
              "      <th>Right Hand Side</th>\n",
              "      <th>Support</th>\n",
              "      <th>Confidence</th>\n",
              "      <th>Lift</th>\n",
              "    </tr>\n",
              "  </thead>\n",
              "  <tbody>\n",
              "    <tr>\n",
              "      <th>0</th>\n",
              "      <td>spaghetti</td>\n",
              "      <td>ground beef</td>\n",
              "      <td>0.003066</td>\n",
              "      <td>0.460000</td>\n",
              "      <td>4.681764</td>\n",
              "    </tr>\n",
              "    <tr>\n",
              "      <th>1</th>\n",
              "      <td>herb &amp; pepper</td>\n",
              "      <td>ground beef</td>\n",
              "      <td>0.003999</td>\n",
              "      <td>0.441176</td>\n",
              "      <td>4.490183</td>\n",
              "    </tr>\n",
              "    <tr>\n",
              "      <th>2</th>\n",
              "      <td>french fries</td>\n",
              "      <td>ground beef</td>\n",
              "      <td>0.003200</td>\n",
              "      <td>0.461538</td>\n",
              "      <td>4.697422</td>\n",
              "    </tr>\n",
              "    <tr>\n",
              "      <th>3</th>\n",
              "      <td>spaghetti</td>\n",
              "      <td>ground beef</td>\n",
              "      <td>0.003066</td>\n",
              "      <td>0.489362</td>\n",
              "      <td>4.980600</td>\n",
              "    </tr>\n",
              "    <tr>\n",
              "      <th>4</th>\n",
              "      <td>whole wheat pasta</td>\n",
              "      <td>olive oil</td>\n",
              "      <td>0.003866</td>\n",
              "      <td>0.402778</td>\n",
              "      <td>6.115863</td>\n",
              "    </tr>\n",
              "    <tr>\n",
              "      <th>5</th>\n",
              "      <td>spaghetti</td>\n",
              "      <td>nan</td>\n",
              "      <td>0.003066</td>\n",
              "      <td>0.460000</td>\n",
              "      <td>4.681764</td>\n",
              "    </tr>\n",
              "    <tr>\n",
              "      <th>6</th>\n",
              "      <td>shrimp</td>\n",
              "      <td>frozen vegetables</td>\n",
              "      <td>0.003200</td>\n",
              "      <td>0.421053</td>\n",
              "      <td>4.417225</td>\n",
              "    </tr>\n",
              "    <tr>\n",
              "      <th>7</th>\n",
              "      <td>herb &amp; pepper</td>\n",
              "      <td>nan</td>\n",
              "      <td>0.003999</td>\n",
              "      <td>0.441176</td>\n",
              "      <td>4.490183</td>\n",
              "    </tr>\n",
              "    <tr>\n",
              "      <th>8</th>\n",
              "      <td>french fries</td>\n",
              "      <td>nan</td>\n",
              "      <td>0.003200</td>\n",
              "      <td>0.461538</td>\n",
              "      <td>4.697422</td>\n",
              "    </tr>\n",
              "    <tr>\n",
              "      <th>9</th>\n",
              "      <td>frozen vegetables</td>\n",
              "      <td>milk</td>\n",
              "      <td>0.003066</td>\n",
              "      <td>0.605263</td>\n",
              "      <td>4.670863</td>\n",
              "    </tr>\n",
              "    <tr>\n",
              "      <th>10</th>\n",
              "      <td>spaghetti</td>\n",
              "      <td>nan</td>\n",
              "      <td>0.003066</td>\n",
              "      <td>0.489362</td>\n",
              "      <td>4.980600</td>\n",
              "    </tr>\n",
              "    <tr>\n",
              "      <th>11</th>\n",
              "      <td>whole wheat pasta</td>\n",
              "      <td>olive oil</td>\n",
              "      <td>0.003866</td>\n",
              "      <td>0.402778</td>\n",
              "      <td>6.128268</td>\n",
              "    </tr>\n",
              "    <tr>\n",
              "      <th>12</th>\n",
              "      <td>shrimp</td>\n",
              "      <td>frozen vegetables</td>\n",
              "      <td>0.003200</td>\n",
              "      <td>0.421053</td>\n",
              "      <td>4.417225</td>\n",
              "    </tr>\n",
              "    <tr>\n",
              "      <th>13</th>\n",
              "      <td>frozen vegetables</td>\n",
              "      <td>nan</td>\n",
              "      <td>0.003066</td>\n",
              "      <td>0.605263</td>\n",
              "      <td>4.670863</td>\n",
              "    </tr>\n",
              "  </tbody>\n",
              "</table>\n",
              "</div>"
            ],
            "text/plain": [
              "       Left Hand Side    Right Hand Side   Support  Confidence      Lift\n",
              "0           spaghetti        ground beef  0.003066    0.460000  4.681764\n",
              "1       herb & pepper        ground beef  0.003999    0.441176  4.490183\n",
              "2        french fries        ground beef  0.003200    0.461538  4.697422\n",
              "3           spaghetti        ground beef  0.003066    0.489362  4.980600\n",
              "4   whole wheat pasta          olive oil  0.003866    0.402778  6.115863\n",
              "5           spaghetti                nan  0.003066    0.460000  4.681764\n",
              "6              shrimp  frozen vegetables  0.003200    0.421053  4.417225\n",
              "7       herb & pepper                nan  0.003999    0.441176  4.490183\n",
              "8        french fries                nan  0.003200    0.461538  4.697422\n",
              "9   frozen vegetables               milk  0.003066    0.605263  4.670863\n",
              "10          spaghetti                nan  0.003066    0.489362  4.980600\n",
              "11  whole wheat pasta          olive oil  0.003866    0.402778  6.128268\n",
              "12             shrimp  frozen vegetables  0.003200    0.421053  4.417225\n",
              "13  frozen vegetables                nan  0.003066    0.605263  4.670863"
            ]
          },
          "metadata": {
            "tags": []
          },
          "execution_count": 35
        }
      ]
    },
    {
      "cell_type": "code",
      "metadata": {
        "id": "cs_5k50s6L1z"
      },
      "source": [
        ""
      ],
      "execution_count": null,
      "outputs": []
    }
  ]
}